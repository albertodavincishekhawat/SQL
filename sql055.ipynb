{
 "cells": [
  {
   "cell_type": "markdown",
   "metadata": {},
   "source": [
    "# SQL-055\n",
    "by Suvidha Paramal\n",
    "\n",
    "<br>\n",
    "<br>\n",
    "\n",
    "--- \n",
    "---\n",
    "<br>\n",
    "<br>"
   ]
  },
  {
   "cell_type": "markdown",
   "metadata": {},
   "source": [
    "#  16.05.24 Class 2"
   ]
  },
  {
   "cell_type": "markdown",
   "metadata": {
    "vscode": {
     "languageId": "sql"
    }
   },
   "source": [
    "## INSTALLATION\n",
    "> They must be downloaded first!\n",
    "- Oracle\n",
    "    - Double click setup\n",
    "    - Accept \"Agreement\"\n",
    "    - set \"Password\"\n",
    "    - INSTALL\n",
    "- SQLdeveloper\n",
    "    - Simply download and install\n",
    "<br>\n",
    "<br>\n",
    "<br>\n",
    "<br>\n",
    "\n",
    "*Important steps in command prompt ahead* : Open \"command prompt\" and follow :\n",
    "- sqlplus / as sysdba ;     \n",
    "    - return ***\" SQL >\"** cursor.*\n",
    "- alter user hr identify by hr ;    \n",
    "    - return ***\"user altered\"***.\n",
    "- alter user \"hr\" account unlock\n",
    "    - return ***\"user altered\"***.\n",
    "- conn hr/hr"
   ]
  },
  {
   "cell_type": "markdown",
   "metadata": {},
   "source": [
    "Do this after opening  **SQLdeveloper**\n",
    "<br>\n",
    "<br>\n",
    "![alt](images/create_conn.PNG)"
   ]
  },
  {
   "cell_type": "markdown",
   "metadata": {},
   "source": [
    "#  17.05.24 Class 3\n",
    "[This link contains all the basics to learn about SQL](https://www.w3schools.com/sql/default.asp)\n",
    "\n",
    "> SQL is case-sensetive \n",
    "\n",
    "> Only single query at a time.\n",
    "\n",
    "> -- this is how comment in SQL\n",
    "\n",
    "> null = unknown data or at times nothing.\n",
    "\n",
    "> avoid using \"\" use ''. "
   ]
  },
  {
   "cell_type": "markdown",
   "metadata": {},
   "source": [
    "## What is SQL?\n",
    "SQL is a standard language for storing, manipulating and retrieving data in databases.\n"
   ]
  },
  {
   "cell_type": "markdown",
   "metadata": {},
   "source": [
    "### What are SQL languages? Types of COMMANDS?\n",
    "![SQLcommands](images/SQLcommands.png)\n"
   ]
  },
  {
   "cell_type": "markdown",
   "metadata": {},
   "source": [
    "### What is **DESCRIBE** ?\n",
    "<br>\n",
    "Describes the table by by returning a short info.\n",
    "<br>\n",
    "\n",
    "![DESCRIBE](images/DESCRIBE.PNG)\n"
   ]
  },
  {
   "cell_type": "markdown",
   "metadata": {},
   "source": [
    "### How to concatenate by **\"||\"** ?\n",
    "it's used  to merge columns for reference i,e. tempararily w/t a new name."
   ]
  },
  {
   "cell_type": "code",
   "execution_count": null,
   "metadata": {
    "vscode": {
     "languageId": "sql"
    }
   },
   "outputs": [],
   "source": [
    "SELECT first_name || ' ' || last_name AS full_name\n",
    "FROM employees;"
   ]
  },
  {
   "cell_type": "markdown",
   "metadata": {},
   "source": [
    "![|| o/p](images/ll%20op.PNG)"
   ]
  },
  {
   "cell_type": "markdown",
   "metadata": {},
   "source": [
    "### **GROUP BY** vs **DISTINCT** vs **UNIQUE** ?"
   ]
  },
  {
   "cell_type": "markdown",
   "metadata": {},
   "source": [
    "**GROUP BY**\n",
    "- *Purpose*: \n",
    "    - Aggregate data based on one or more columns.\n",
    "- *Syntax*:\n",
    "    - Often used with aggregate functions like SUM(), COUNT(), etc.\n",
    "\n",
    "**DISTINCT**\n",
    "- *Purpose*:\n",
    "    - Return unique values from a column or combination of columns.\n",
    "- *Syntax:*\n",
    "    -  Used in the SELECT statement.\n",
    "\n",
    "**UNIQUE**\n",
    "- *Purpose*:\n",
    "    -  Enforce unique values in a column at the table level.\n",
    "- *Syntax*:\n",
    "    -  Defined in table creation or altered later.\n",
    "\n",
    "<br>\n",
    "<br>\n",
    "<br>\n",
    "\n",
    "<u> ***Key Differences***</u>\n",
    "\n",
    "*Scope*:\n",
    "\n",
    "- GROUP BY: Aggregates query results.\n",
    "- DISTINCT: Filters duplicates in query results.\n",
    "- UNIQUE: Ensures uniqueness in table columns.\n",
    "\n",
    "*Usage*:\n",
    "\n",
    "- GROUP BY: Aggregate results by columns.\n",
    "- DISTINCT: Remove duplicates in query results.\n",
    "- UNIQUE: Enforce data integrity in tables.\n",
    "<br>\n",
    "<br>\n",
    "<br>\n",
    "Examples below:"
   ]
  },
  {
   "cell_type": "code",
   "execution_count": null,
   "metadata": {
    "vscode": {
     "languageId": "sql"
    }
   },
   "outputs": [],
   "source": [
    "-- GROUPBY\n",
    "SELECT department, COUNT(*)\n",
    "FROM employees\n",
    "GROUP BY department;\n"
   ]
  },
  {
   "cell_type": "code",
   "execution_count": null,
   "metadata": {
    "vscode": {
     "languageId": "sql"
    }
   },
   "outputs": [],
   "source": [
    "-- DISTINCT\n",
    "SELECT DISTINCT department\n",
    "FROM employees;\n"
   ]
  },
  {
   "cell_type": "code",
   "execution_count": null,
   "metadata": {
    "vscode": {
     "languageId": "sql"
    }
   },
   "outputs": [],
   "source": [
    "-- UNIQUE\n",
    "CREATE TABLE employees (\n",
    "    id INT PRIMARY KEY,\n",
    "    email VARCHAR(255) UNIQUE\n",
    ");\n"
   ]
  },
  {
   "cell_type": "markdown",
   "metadata": {},
   "source": []
  }
 ],
 "metadata": {
  "kernelspec": {
   "display_name": "Python 3 (ipykernel)",
   "language": "python",
   "name": "python3"
  },
  "language_info": {
   "codemirror_mode": {
    "name": "ipython",
    "version": 3
   },
   "file_extension": ".py",
   "mimetype": "text/x-python",
   "name": "python",
   "nbconvert_exporter": "python",
   "pygments_lexer": "ipython3",
   "version": "3.11.5"
  }
 },
 "nbformat": 4,
 "nbformat_minor": 4
}
